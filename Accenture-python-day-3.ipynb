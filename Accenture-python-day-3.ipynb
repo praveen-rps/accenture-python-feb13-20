{
 "cells": [
  {
   "cell_type": "code",
   "execution_count": 2,
   "id": "2de4e537",
   "metadata": {},
   "outputs": [
    {
     "name": "stdout",
     "output_type": "stream",
     "text": [
      "inside the except block\n"
     ]
    }
   ],
   "source": [
    "try:\n",
    "    # code for file opening\n",
    "    a=10/0\n",
    "    print(a)\n",
    "except TypeError:\n",
    "    print(\"inside the except block\")\n",
    "    # code for file closing\n",
    "else:\n",
    "    print(\"Inside the else block\")\n",
    "    # code for file closing"
   ]
  },
  {
   "cell_type": "code",
   "execution_count": 3,
   "id": "38a85947",
   "metadata": {},
   "outputs": [
    {
     "data": {
      "text/plain": [
       "'\\nTo execute any block of code which has to be mandatorily executed irrespecitive\\nof exception occured or not\\n\\nfile opening\\n\\n    \\n\\nfile closing\\n            \\n'"
      ]
     },
     "execution_count": 3,
     "metadata": {},
     "output_type": "execute_result"
    }
   ],
   "source": [
    "#finally\n",
    "\"\"\"\n",
    "To execute any block of code which has to be mandatorily executed irrespecitive\n",
    "of exception occured or not\n",
    "\n",
    "file opening\n",
    "\n",
    "    \n",
    "\n",
    "file closing\n",
    "            \n",
    "\"\"\""
   ]
  },
  {
   "cell_type": "code",
   "execution_count": 18,
   "id": "b1f0354b",
   "metadata": {},
   "outputs": [
    {
     "name": "stdout",
     "output_type": "stream",
     "text": [
      "10.0\n",
      "inside the general exception block\n",
      "Inside the finally block\n"
     ]
    }
   ],
   "source": [
    "try:\n",
    "    # code for file opening\n",
    "    a=10/1\n",
    "    b=[10,20]\n",
    "    print(a)\n",
    "    print(b[3])\n",
    "except TypeError:\n",
    "    print(\"inside the except block\")\n",
    "    # code for file closing\n",
    "except ZeroDivisionError:\n",
    "    print(\"Inside the zero division exception block\")\n",
    "except:\n",
    "    print(\"inside the general exception block\")\n",
    "finally:\n",
    "    print(\"Inside the finally block\")"
   ]
  },
  {
   "cell_type": "code",
   "execution_count": 21,
   "id": "c15945ac",
   "metadata": {},
   "outputs": [
    {
     "name": "stdout",
     "output_type": "stream",
     "text": [
      "Insid the zero division error block\n"
     ]
    }
   ],
   "source": [
    "try:\n",
    "    a =200\n",
    "    b = 10000\n",
    "    if a < b:\n",
    "        raise ZeroDivisionError\n",
    "    else:\n",
    "        raise TypeError\n",
    "except ZeroDivisionError:\n",
    "    print(\"Insid the zero division error block\")\n",
    "except TypeError:\n",
    "    print(\"Inside the type error block\")\n"
   ]
  },
  {
   "cell_type": "code",
   "execution_count": 29,
   "id": "7db15d2d",
   "metadata": {},
   "outputs": [],
   "source": [
    "class InvalidAgeException(Exception):\n",
    "    pass"
   ]
  },
  {
   "cell_type": "code",
   "execution_count": 31,
   "id": "74eccc8c",
   "metadata": {},
   "outputs": [
    {
     "name": "stdout",
     "output_type": "stream",
     "text": [
      "enter age-9\n",
      "Age cannot be either negative or more than 100\n"
     ]
    }
   ],
   "source": [
    "try:\n",
    "    age = int(input(\"enter age\"))\n",
    "    if age < 0 or age > 100:\n",
    "        raise InvalidAgeException\n",
    "    elif age >= 0 and age <=17:\n",
    "        print(\"Insufficient age to vote\")\n",
    "    else:\n",
    "        print(\"Eligible to vote\")\n",
    "except InvalidAgeException:\n",
    "    print(\"Age cannot be either negative or more than 100\")"
   ]
  },
  {
   "cell_type": "code",
   "execution_count": null,
   "id": "f078dd02",
   "metadata": {},
   "outputs": [],
   "source": []
  }
 ],
 "metadata": {
  "kernelspec": {
   "display_name": "Python 3 (ipykernel)",
   "language": "python",
   "name": "python3"
  },
  "language_info": {
   "codemirror_mode": {
    "name": "ipython",
    "version": 3
   },
   "file_extension": ".py",
   "mimetype": "text/x-python",
   "name": "python",
   "nbconvert_exporter": "python",
   "pygments_lexer": "ipython3",
   "version": "3.9.13"
  }
 },
 "nbformat": 4,
 "nbformat_minor": 5
}
